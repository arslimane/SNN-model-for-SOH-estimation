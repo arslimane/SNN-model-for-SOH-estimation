{
 "cells": [
  {
   "cell_type": "code",
   "execution_count": 1,
   "metadata": {},
   "outputs": [],
   "source": [
    "import tensorflow as tf\n",
    "from tensorflow.keras.models import Sequential\n",
    "from tensorflow.keras.layers import Input, Conv1D, MaxPooling1D, LSTM, Dense, Dropout, Flatten\n",
    "from tensorflow.keras.callbacks import EarlyStopping, ModelCheckpoint\n",
    "import matplotlib.pyplot as plt\n",
    "import numpy as np\n",
    "import itertools\n",
    "import struct\n",
    "import pandas as pd\n",
    "from  tqdm import tqdm \n",
    "from tensorflow.keras.models import load_model\n",
    "from keras.layers import Input, Dense, Reshape, Flatten,Dropout\n",
    "from keras.models import Model\n",
    "from keras.optimizers import Adam\n",
    "from tensorflow.keras.callbacks import EarlyStopping"
   ]
  },
  {
   "cell_type": "code",
   "execution_count": 2,
   "metadata": {},
   "outputs": [],
   "source": [
    "DataPath=\"D:\\\\INSA_DATA\\\\Data\\\\LFP\\\\ResultTheo\\\\All\\\\\"\n",
    "Train_data=[\"cell1-25.h5\",\"cell2-35.h5\",\"cell3-45.h5\"]\n",
    "Test_data=[\"cell7-25.h5\",\"cell8-35.h5\",\"cell9-45.h5\"]\n",
    "maxI,minI,maxV,minV,maxT,minT=[9.381874,-20.00478,3.600254,1.989369,57.09709,18.68196]"
   ]
  },
  {
   "cell_type": "code",
   "execution_count": 3,
   "metadata": {},
   "outputs": [],
   "source": [
    "\n",
    "def build_model(input_shape=(37500, 3), output_shape=25):\n",
    "    model = Sequential([\n",
    "        Input(shape=input_shape),\n",
    "        Conv1D(filters=64, kernel_size=5, activation='relu'),\n",
    "        MaxPooling1D(pool_size=2),\n",
    "        LSTM(64, return_sequences=True),\n",
    "        LSTM(32),\n",
    "        Dropout(0.3),\n",
    "        Dense(64, activation='relu'),\n",
    "        Dense(output_shape, activation='sigmoid')\n",
    "    ])\n",
    "\n",
    "    model.compile(optimizer='adam', loss='mae', metrics=['mse'])\n",
    "    return model\n",
    "\n"
   ]
  },
  {
   "cell_type": "code",
   "execution_count": 4,
   "metadata": {},
   "outputs": [],
   "source": [
    "def Test(Steps_in,Steps_out):\n",
    "    for stpsin,stpout in tqdm(zip(Steps_in,Steps_out)):\n",
    "        data = np.load(f\"Data\\\\Xtrain_normilized_{stpsin}_{stpout}.npz\")\n",
    "        X1 = data['Data']\n",
    "        data = np.load(f\"Data\\\\Ytrain_{stpsin}_{stpout}.npz\")\n",
    "        Y1 = data['y']\n",
    "        data = np.load(f\"Data\\\\Xtest_normilized_{stpsin}_{stpout}.npz\")\n",
    "        X2 = data['Data']\n",
    "        data = np.load(f\"Data\\\\Ytest_{stpsin}_{stpout}.npz\")\n",
    "        Y2 = data['y']\n",
    "        X1 = np.float32(X1)\n",
    "        Y1= np.float32(Y1)\n",
    "        X2 = np.float32(X2)\n",
    "        Y2= np.float32(Y2)\n",
    "\n",
    "        model = build_model(input_shape=(1500*stpsin,3),output_shape=stpout)\n",
    "\n",
    "        callbacks = [\n",
    "            EarlyStopping(monitor='val_loss', patience=10, restore_best_weights=True),\n",
    "            ModelCheckpoint(f\"Models\\\\CNNLSTM_{stpsin}_{stpout}.keras\", save_best_only=True)\n",
    "        ]\n",
    "        \n",
    "        history = model.fit(\n",
    "            X1, Y1,\n",
    "            validation_split=0.1,\n",
    "            epochs=1,# to be changed\n",
    "            batch_size=32,\n",
    "            callbacks=callbacks,\n",
    "            verbose=0\n",
    "        )\n",
    "\n",
    "        model1=load_model(f\"Models\\\\CNNLSTM_{stpsin}_{stpout}.keras\")\n",
    "        test_loss, test_mse = model1.evaluate(X2, Y2)\n",
    "        print(f\"\\nTest MAE: {test_loss:.4f} | Test MSE: {test_mse:.4f}\")"
   ]
  },
  {
   "cell_type": "code",
   "execution_count": 7,
   "metadata": {},
   "outputs": [
    {
     "name": "stderr",
     "output_type": "stream",
     "text": [
      "0it [00:00, ?it/s]"
     ]
    },
    {
     "name": "stdout",
     "output_type": "stream",
     "text": [
      "\u001b[1m213/213\u001b[0m \u001b[32m━━━━━━━━━━━━━━━━━━━━\u001b[0m\u001b[37m\u001b[0m \u001b[1m1001s\u001b[0m 5s/step - loss: 0.1102 - mse: 0.0178\n"
     ]
    },
    {
     "name": "stderr",
     "output_type": "stream",
     "text": [
      "1it [3:43:43, 13423.31s/it]"
     ]
    },
    {
     "name": "stdout",
     "output_type": "stream",
     "text": [
      "\n",
      "Test MAE: 0.1002 | Test MSE: 0.0181\n",
      "\u001b[1m204/204\u001b[0m \u001b[32m━━━━━━━━━━━━━━━━━━━━\u001b[0m\u001b[37m\u001b[0m \u001b[1m786s\u001b[0m 4s/step - loss: 0.0857 - mse: 0.0154\n"
     ]
    },
    {
     "name": "stderr",
     "output_type": "stream",
     "text": [
      "2it [9:16:13, 16686.94s/it]"
     ]
    },
    {
     "name": "stdout",
     "output_type": "stream",
     "text": [
      "\n",
      "Test MAE: 0.1025 | Test MSE: 0.0207\n"
     ]
    },
    {
     "name": "stderr",
     "output_type": "stream",
     "text": [
      "\n"
     ]
    }
   ],
   "source": [
    "Steps_in=[25,25]\n",
    "Steps_out=[100,200]    \n",
    "Test(Steps_in,Steps_out)\n"
   ]
  },
  {
   "cell_type": "code",
   "execution_count": 10,
   "metadata": {},
   "outputs": [
    {
     "name": "stderr",
     "output_type": "stream",
     "text": [
      "0it [00:00, ?it/s]"
     ]
    },
    {
     "name": "stdout",
     "output_type": "stream",
     "text": [
      "\u001b[1m225/225\u001b[0m \u001b[32m━━━━━━━━━━━━━━━━━━━━\u001b[0m\u001b[37m\u001b[0m \u001b[1m14s\u001b[0m 61ms/step - loss: 0.0887 - mse: 0.0158\n"
     ]
    },
    {
     "name": "stderr",
     "output_type": "stream",
     "text": [
      "1it [00:16, 16.34s/it]"
     ]
    },
    {
     "name": "stdout",
     "output_type": "stream",
     "text": [
      "MAE 0.10055549442768097 MSE 0.0202618595212698 RMSE 0.1423441587184729 RunningTime 1.3996152877807617 Estimated energy 28464.67591524124\n",
      "\u001b[1m224/224\u001b[0m \u001b[32m━━━━━━━━━━━━━━━━━━━━\u001b[0m\u001b[37m\u001b[0m \u001b[1m156s\u001b[0m 695ms/step - loss: 0.0708 - mse: 0.0106\n"
     ]
    },
    {
     "name": "stderr",
     "output_type": "stream",
     "text": [
      "2it [03:11, 110.06s/it]"
     ]
    },
    {
     "name": "stdout",
     "output_type": "stream",
     "text": [
      "MAE 0.08743494004011154 MSE 0.01588372141122818 RMSE 0.1260306367960909 RunningTime 13.44647479057312 Estimated energy 227561.4161182642\n",
      "\u001b[1m222/222\u001b[0m \u001b[32m━━━━━━━━━━━━━━━━━━━━\u001b[0m\u001b[37m\u001b[0m \u001b[1m396s\u001b[0m 2s/step - loss: 0.0854 - mse: 0.0121\n"
     ]
    },
    {
     "name": "stderr",
     "output_type": "stream",
     "text": [
      "3it [10:27, 258.49s/it]"
     ]
    },
    {
     "name": "stdout",
     "output_type": "stream",
     "text": [
      "MAE 0.08399251848459244 MSE 0.01352726574987173 RMSE 0.1163067743077407 RunningTime 27.169485330581665 Estimated energy 467695.5204806328\n",
      "\u001b[1m220/220\u001b[0m \u001b[32m━━━━━━━━━━━━━━━━━━━━\u001b[0m\u001b[37m\u001b[0m \u001b[1m715s\u001b[0m 3s/step - loss: 0.0863 - mse: 0.0123\n"
     ]
    },
    {
     "name": "stderr",
     "output_type": "stream",
     "text": [
      "4it [23:12, 458.65s/it]"
     ]
    },
    {
     "name": "stdout",
     "output_type": "stream",
     "text": [
      "MAE 0.0848647877573967 MSE 0.014083979651331902 RMSE 0.11867594386113768 RunningTime 34.608144760131836 Estimated energy 596990.4971122742\n",
      "\u001b[1m218/218\u001b[0m \u001b[32m━━━━━━━━━━━━━━━━━━━━\u001b[0m\u001b[37m\u001b[0m \u001b[1m828s\u001b[0m 4s/step - loss: 0.0876 - mse: 0.0145\n"
     ]
    },
    {
     "name": "stderr",
     "output_type": "stream",
     "text": [
      "5it [37:50, 609.96s/it]"
     ]
    },
    {
     "name": "stdout",
     "output_type": "stream",
     "text": [
      "MAE 0.10042412579059601 MSE 0.019783474504947662 RMSE 0.14065373974746517 RunningTime 33.28957533836365 Estimated energy 576625.3792234659\n",
      "\u001b[1m213/213\u001b[0m \u001b[32m━━━━━━━━━━━━━━━━━━━━\u001b[0m\u001b[37m\u001b[0m \u001b[1m828s\u001b[0m 4s/step - loss: 0.1102 - mse: 0.0178\n"
     ]
    },
    {
     "name": "stderr",
     "output_type": "stream",
     "text": [
      "6it [52:29, 701.40s/it]"
     ]
    },
    {
     "name": "stdout",
     "output_type": "stream",
     "text": [
      "MAE 0.10021448880434036 MSE 0.018054651096463203 RMSE 0.13436759689918995 RunningTime 33.74705266952515 Estimated energy 591602.7068231106\n",
      "\u001b[1m204/204\u001b[0m \u001b[32m━━━━━━━━━━━━━━━━━━━━\u001b[0m\u001b[37m\u001b[0m \u001b[1m798s\u001b[0m 4s/step - loss: 0.0857 - mse: 0.0154\n"
     ]
    },
    {
     "name": "stderr",
     "output_type": "stream",
     "text": [
      "7it [1:06:36, 570.94s/it]"
     ]
    },
    {
     "name": "stdout",
     "output_type": "stream",
     "text": [
      "MAE 0.10251449048519135 MSE 0.02065172791481018 RMSE 0.14370709069078735 RunningTime 32.987467765808105 Estimated energy 570699.6860823631\n"
     ]
    },
    {
     "name": "stderr",
     "output_type": "stream",
     "text": [
      "\n"
     ]
    }
   ],
   "source": [
    "import pynvml\n",
    "import time\n",
    "\n",
    "Steps_in=[1,10,20,25,25,25,25]\n",
    "Steps_out=[1,5,10,25,50,100,200] \n",
    "for stpsin,stpout in tqdm(zip(Steps_in,Steps_out)):\n",
    "    data = np.load(f\"Data\\\\Xtest_normilized_{stpsin}_{stpout}.npz\")\n",
    "    X2 = data['Data']\n",
    "    model1=load_model(f\"Models\\\\CNNLSTM_{stpsin}_{stpout}.keras\")\n",
    "    data = np.load(f\"Data\\\\Ytest_{stpsin}_{stpout}.npz\")\n",
    "    Y2 = data['y']\n",
    "    start=time.time()\n",
    "    test_loss, test_mse= model1.evaluate(X2, Y2)\n",
    "    end=time.time()\n",
    "    test_rmse=np.sqrt(test_mse)\n",
    "    test_time=(end-start)/len(X2)\n",
    "    \n",
    "    \n",
    "    pynvml.nvmlInit()\n",
    "    handle = pynvml.nvmlDeviceGetHandleByIndex(0)\n",
    "\n",
    "    start = time.time()\n",
    "    power_start = pynvml.nvmlDeviceGetPowerUsage(handle)  # in mW\n",
    "\n",
    "    # Run your inference\n",
    "    output = model1(X2[0:1])\n",
    "\n",
    "    power_end = pynvml.nvmlDeviceGetPowerUsage(handle)\n",
    "    end = time.time()\n",
    "\n",
    "    avg_power = (power_start + power_end) / 2  # in milliwatts\n",
    "    duration = end - start  # in seconds\n",
    "\n",
    "    energy_mJ = avg_power * duration  # mJ = mW * s\n",
    "    print(\"MAE\",test_loss,\"MSE\",test_mse,\"RMSE\",test_rmse,\"RunningTime\",duration,\"Estimated energy\",energy_mJ)\n",
    "    results=[test_loss,test_mse,test_rmse,test_time,energy_mJ]\n",
    "    np.save(f\"Results\\\\resultsCNN_{stpsin}_{stpout}\",results)"
   ]
  },
  {
   "cell_type": "code",
   "execution_count": 16,
   "metadata": {},
   "outputs": [],
   "source": [
    "def createModel(inputShape,output):\n",
    "# define model\n",
    "    model2 = Sequential()\n",
    "    model2.add(LSTM(64, activation='relu',input_shape=inputShape,return_sequences=True ))\n",
    "    model2.add(LSTM(32,activation='relu', return_sequences=False))\n",
    "    model2.add(Dense(output,activation=\"sigmoid\"))\n",
    "\n",
    "    opt = tf.keras.optimizers.Adam(learning_rate=0.0001)\n",
    "    model2.compile(optimizer=opt,loss='mae',metrics=['mae','mse',tf.keras.metrics.RootMeanSquaredError(),tf.keras.metrics.MeanAbsolutePercentageError()])\n",
    "    return model2"
   ]
  },
  {
   "cell_type": "code",
   "execution_count": 19,
   "metadata": {},
   "outputs": [],
   "source": [
    "import pynvml\n",
    "import time"
   ]
  },
  {
   "cell_type": "code",
   "execution_count": 24,
   "metadata": {},
   "outputs": [],
   "source": [
    "def TestLSTM(Steps_in,Steps_out):\n",
    "    for stpsin,stpout in tqdm(zip(Steps_in,Steps_out)):\n",
    "        data = np.load(f\"Data\\\\Xtrain_normilized_{stpsin}_{stpout}.npz\")\n",
    "        X1 = data['Data']\n",
    "        data = np.load(f\"Data\\\\Ytrain_{stpsin}_{stpout}.npz\")\n",
    "        Y1 = data['y']\n",
    "        data = np.load(f\"Data\\\\Xtest_normilized_{stpsin}_{stpout}.npz\")\n",
    "        X2 = data['Data']\n",
    "        data = np.load(f\"Data\\\\Ytest_{stpsin}_{stpout}.npz\")\n",
    "        Y2 = data['y']\n",
    "        X1 = np.float32(X1)\n",
    "        Y1= np.float32(Y1)\n",
    "        X2 = np.float32(X2)\n",
    "        Y2= np.float32(Y2)\n",
    "\n",
    "        input_shape = (1500*stpsin,3)\n",
    "        hidden_size1 = 256\n",
    "        hidden_size2 = 128\n",
    "        hidden_size3 = 100\n",
    "        code_size = 64\n",
    "\n",
    "        input_layer = Input(shape=(input_shape))\n",
    "\n",
    "        hidden_layer_0=Flatten()(input_layer)\n",
    "        hidden_layer_1 = Dense(hidden_size1, activation='relu')(hidden_layer_0)\n",
    "        hidden_layer_2 = Dense(hidden_size2, activation='relu')(hidden_layer_1)\n",
    "        hidden_layer_3 = Dense(hidden_size3, activation='relu')(hidden_layer_2)\n",
    "        bottleneck_layer = Dense(code_size*stpsin, activation='sigmoid')(hidden_layer_3)\n",
    "\n",
    "        # Define the decoder network\n",
    "        hidden_layer_5 = Dense(hidden_size1, activation='relu')(bottleneck_layer)\n",
    "        hidden_layer_6 = Dense(hidden_size2, activation='relu')(hidden_layer_5)\n",
    "        hidden_layer_7 = Dense(hidden_size1, activation='relu')(hidden_layer_6)\n",
    "        hidden_layer_8 = Dense(1500*stpsin*3, activation='sigmoid')(hidden_layer_7)\n",
    "        output_layer=Reshape((1500*stpsin,3))(hidden_layer_8)\n",
    "\n",
    "        autoencoder = Model(input_layer, output_layer)\n",
    "        opt = Adam(learning_rate=0.0001)\n",
    "        autoencoder.compile(optimizer=opt, loss='mae',metrics=['mae', 'mse',tf.keras.metrics.RootMeanSquaredError()])\n",
    "        early_stopping = EarlyStopping(monitor='val_loss', patience=5, mode='min')\n",
    "        autoencoder.fit(X1, X1, epochs=300,batch_size=64,\n",
    "                        validation_data=(X2, X2),callbacks=[early_stopping],verbose=0\n",
    "                    )\n",
    "        print(\"Encoder done\")\n",
    "        encoder = Model(input_layer, bottleneck_layer)\n",
    "        encoder.compile(optimizer='adam', loss='mae')\n",
    "        X11=encoder.predict(X1)\n",
    "        X22=encoder.predict(X2)\n",
    "        X11=np.float32(np.reshape(X11,(len(X11),stpsin,64)))\n",
    "        X22=np.float32(np.reshape(X22,(len(X22),stpsin,64)))\n",
    "        input_shape = (stpsin, 64)\n",
    "        model2=createModel(input_shape,stpout)\n",
    "        callbacks = [\n",
    "            EarlyStopping(monitor='val_loss', patience=10, restore_best_weights=True),\n",
    "            ModelCheckpoint(f\"Models\\\\ELSTM_{stpsin}_{stpout}.keras\", save_best_only=True)\n",
    "        ]\n",
    "\n",
    "\n",
    "        history = model2.fit(\n",
    "            X11, Y1,\n",
    "            validation_split=0.1,\n",
    "            epochs=4,# to be changed\n",
    "            batch_size=32,\n",
    "            callbacks=callbacks,\n",
    "            verbose=1)\n",
    "        test_loss = model2.evaluate(X22, Y2)\n",
    "        print(\"Model done\")\n",
    "        input_shape = (1500*stpsin,3)\n",
    "        fsize=64\n",
    "\n",
    "        input_layer = Input(shape=(input_shape))\n",
    "        hidden_layer_0=encoder(input_layer)\n",
    "        hidden_layer_1 =Reshape((stpsin,fsize))(hidden_layer_0)\n",
    "        output_layer = model2(hidden_layer_1)\n",
    "\n",
    "        model3 = Model(input_layer, output_layer)\n",
    "        model3.compile(optimizer='adam', loss='mae')\n",
    "\n",
    "        model3.save(f\"Models\\\\ELSTMt_{stpsin}_{stpout}.keras\")\n",
    "        pynvml.nvmlInit()\n",
    "        handle = pynvml.nvmlDeviceGetHandleByIndex(0)\n",
    "\n",
    "        start = time.time()\n",
    "        power_start = pynvml.nvmlDeviceGetPowerUsage(handle)  # in mW\n",
    "\n",
    "        # Run your inference\n",
    "        output = model3(X1[0:1])\n",
    "\n",
    "        power_end = pynvml.nvmlDeviceGetPowerUsage(handle)\n",
    "        end = time.time()\n",
    "\n",
    "        avg_power = (power_start + power_end) / 2  # in milliwatts\n",
    "        duration = end - start  # in seconds\n",
    "\n",
    "        energy_mJ = avg_power * duration  # mJ = mW * s\n",
    "        print(\"MAE\",test_loss[1],\"MSE\",test_loss[2],\"RMSE\",test_loss[3],\"RunningTime\",duration,\"Estimated energy\",energy_mJ)\n",
    "        results=[test_loss[1],test_loss[2],test_loss[3],duration,energy_mJ]\n",
    "        np.save(f\"Results\\\\resultsLSTM_{stpsin}_{stpout}\",results)"
   ]
  },
  {
   "cell_type": "code",
   "execution_count": 25,
   "metadata": {},
   "outputs": [
    {
     "name": "stderr",
     "output_type": "stream",
     "text": [
      "0it [00:00, ?it/s]"
     ]
    },
    {
     "name": "stdout",
     "output_type": "stream",
     "text": [
      "Encoder done\n",
      "\u001b[1m237/237\u001b[0m \u001b[32m━━━━━━━━━━━━━━━━━━━━\u001b[0m\u001b[37m\u001b[0m \u001b[1m0s\u001b[0m 1ms/step  \n",
      "\u001b[1m225/225\u001b[0m \u001b[32m━━━━━━━━━━━━━━━━━━━━\u001b[0m\u001b[37m\u001b[0m \u001b[1m0s\u001b[0m 1ms/step\n",
      "Epoch 1/4\n",
      "\u001b[1m214/214\u001b[0m \u001b[32m━━━━━━━━━━━━━━━━━━━━\u001b[0m\u001b[37m\u001b[0m \u001b[1m2s\u001b[0m 4ms/step - loss: 0.3293 - mae: 0.3293 - mean_absolute_percentage_error: 36.9428 - mse: 0.1279 - root_mean_squared_error: 0.3573 - val_loss: 0.0949 - val_mae: 0.0949 - val_mean_absolute_percentage_error: 15.1354 - val_mse: 0.0144 - val_root_mean_squared_error: 0.1198\n",
      "Epoch 2/4\n",
      "\u001b[1m214/214\u001b[0m \u001b[32m━━━━━━━━━━━━━━━━━━━━\u001b[0m\u001b[37m\u001b[0m \u001b[1m0s\u001b[0m 2ms/step - loss: 0.1033 - mae: 0.1033 - mean_absolute_percentage_error: 14.4222 - mse: 0.0177 - root_mean_squared_error: 0.1330 - val_loss: 0.1924 - val_mae: 0.1924 - val_mean_absolute_percentage_error: 29.7814 - val_mse: 0.0456 - val_root_mean_squared_error: 0.2136\n",
      "Epoch 3/4\n",
      "\u001b[1m214/214\u001b[0m \u001b[32m━━━━━━━━━━━━━━━━━━━━\u001b[0m\u001b[37m\u001b[0m \u001b[1m0s\u001b[0m 2ms/step - loss: 0.0739 - mae: 0.0739 - mean_absolute_percentage_error: 10.4742 - mse: 0.0104 - root_mean_squared_error: 0.1020 - val_loss: 0.2024 - val_mae: 0.2024 - val_mean_absolute_percentage_error: 30.9762 - val_mse: 0.0480 - val_root_mean_squared_error: 0.2191\n",
      "Epoch 4/4\n",
      "\u001b[1m214/214\u001b[0m \u001b[32m━━━━━━━━━━━━━━━━━━━━\u001b[0m\u001b[37m\u001b[0m \u001b[1m0s\u001b[0m 2ms/step - loss: 0.0490 - mae: 0.0490 - mean_absolute_percentage_error: 6.8168 - mse: 0.0061 - root_mean_squared_error: 0.0780 - val_loss: 0.1524 - val_mae: 0.1524 - val_mean_absolute_percentage_error: 23.2728 - val_mse: 0.0287 - val_root_mean_squared_error: 0.1694\n",
      "\u001b[1m225/225\u001b[0m \u001b[32m━━━━━━━━━━━━━━━━━━━━\u001b[0m\u001b[37m\u001b[0m \u001b[1m0s\u001b[0m 920us/step - loss: 0.1308 - mae: 0.1308 - mean_absolute_percentage_error: 15.2958 - mse: 0.0212 - root_mean_squared_error: 0.1447\n",
      "Model done\n",
      "MAE 0.1197764202952385 MSE 0.018741067498922348 RMSE 0.13689802587032318 RunningTime 0.012022018432617188 Estimated energy 248.67545127868652\n"
     ]
    },
    {
     "name": "stderr",
     "output_type": "stream",
     "text": [
      "1it [01:28, 88.76s/it]"
     ]
    },
    {
     "name": "stdout",
     "output_type": "stream",
     "text": [
      "Encoder done\n",
      "\u001b[1m236/236\u001b[0m \u001b[32m━━━━━━━━━━━━━━━━━━━━\u001b[0m\u001b[37m\u001b[0m \u001b[1m1s\u001b[0m 5ms/step\n",
      "\u001b[1m224/224\u001b[0m \u001b[32m━━━━━━━━━━━━━━━━━━━━\u001b[0m\u001b[37m\u001b[0m \u001b[1m1s\u001b[0m 4ms/step\n",
      "Epoch 1/4\n",
      "\u001b[1m212/212\u001b[0m \u001b[32m━━━━━━━━━━━━━━━━━━━━\u001b[0m\u001b[37m\u001b[0m \u001b[1m2s\u001b[0m 6ms/step - loss: 0.2069 - mae: 0.2069 - mean_absolute_percentage_error: 24.9917 - mse: 0.0661 - root_mean_squared_error: 0.2521 - val_loss: 0.1672 - val_mae: 0.1672 - val_mean_absolute_percentage_error: 25.9487 - val_mse: 0.0349 - val_root_mean_squared_error: 0.1867\n",
      "Epoch 2/4\n",
      "\u001b[1m212/212\u001b[0m \u001b[32m━━━━━━━━━━━━━━━━━━━━\u001b[0m\u001b[37m\u001b[0m \u001b[1m1s\u001b[0m 4ms/step - loss: 0.0312 - mae: 0.0312 - mean_absolute_percentage_error: 4.5415 - mse: 0.0025 - root_mean_squared_error: 0.0497 - val_loss: 0.0840 - val_mae: 0.0840 - val_mean_absolute_percentage_error: 13.2905 - val_mse: 0.0100 - val_root_mean_squared_error: 0.1000\n",
      "Epoch 3/4\n",
      "\u001b[1m212/212\u001b[0m \u001b[32m━━━━━━━━━━━━━━━━━━━━\u001b[0m\u001b[37m\u001b[0m \u001b[1m1s\u001b[0m 4ms/step - loss: 0.0113 - mae: 0.0113 - mean_absolute_percentage_error: 1.5687 - mse: 3.2248e-04 - root_mean_squared_error: 0.0179 - val_loss: 0.0685 - val_mae: 0.0685 - val_mean_absolute_percentage_error: 10.9331 - val_mse: 0.0071 - val_root_mean_squared_error: 0.0840\n",
      "Epoch 4/4\n",
      "\u001b[1m212/212\u001b[0m \u001b[32m━━━━━━━━━━━━━━━━━━━━\u001b[0m\u001b[37m\u001b[0m \u001b[1m1s\u001b[0m 4ms/step - loss: 0.0091 - mae: 0.0091 - mean_absolute_percentage_error: 1.2292 - mse: 1.8574e-04 - root_mean_squared_error: 0.0136 - val_loss: 0.0841 - val_mae: 0.0841 - val_mean_absolute_percentage_error: 13.1676 - val_mse: 0.0094 - val_root_mean_squared_error: 0.0970\n",
      "\u001b[1m224/224\u001b[0m \u001b[32m━━━━━━━━━━━━━━━━━━━━\u001b[0m\u001b[37m\u001b[0m \u001b[1m1s\u001b[0m 2ms/step - loss: 0.0160 - mae: 0.0160 - mean_absolute_percentage_error: 1.8930 - mse: 4.1997e-04 - root_mean_squared_error: 0.0201\n",
      "Model done\n"
     ]
    },
    {
     "name": "stderr",
     "output_type": "stream",
     "text": [
      "2it [15:44, 540.13s/it]"
     ]
    },
    {
     "name": "stdout",
     "output_type": "stream",
     "text": [
      "MAE 0.02218972146511078 MSE 0.0012537938309833407 RMSE 0.035408951342105865 RunningTime 0.03591728210449219 Estimated energy 773.5505046844482\n",
      "Encoder done\n",
      "\u001b[1m235/235\u001b[0m \u001b[32m━━━━━━━━━━━━━━━━━━━━\u001b[0m\u001b[37m\u001b[0m \u001b[1m2s\u001b[0m 7ms/step\n",
      "\u001b[1m222/222\u001b[0m \u001b[32m━━━━━━━━━━━━━━━━━━━━\u001b[0m\u001b[37m\u001b[0m \u001b[1m2s\u001b[0m 7ms/step\n",
      "Epoch 1/4\n",
      "\u001b[1m211/211\u001b[0m \u001b[32m━━━━━━━━━━━━━━━━━━━━\u001b[0m\u001b[37m\u001b[0m \u001b[1m3s\u001b[0m 8ms/step - loss: 0.2751 - mae: 0.2751 - mean_absolute_percentage_error: 32.1468 - mse: 0.1108 - root_mean_squared_error: 0.3316 - val_loss: 0.1507 - val_mae: 0.1507 - val_mean_absolute_percentage_error: 22.8694 - val_mse: 0.0312 - val_root_mean_squared_error: 0.1765\n",
      "Epoch 2/4\n",
      "\u001b[1m211/211\u001b[0m \u001b[32m━━━━━━━━━━━━━━━━━━━━\u001b[0m\u001b[37m\u001b[0m \u001b[1m1s\u001b[0m 7ms/step - loss: 0.0417 - mae: 0.0417 - mean_absolute_percentage_error: 5.7236 - mse: 0.0038 - root_mean_squared_error: 0.0600 - val_loss: 0.0856 - val_mae: 0.0856 - val_mean_absolute_percentage_error: 13.2784 - val_mse: 0.0096 - val_root_mean_squared_error: 0.0982\n",
      "Epoch 3/4\n",
      "\u001b[1m211/211\u001b[0m \u001b[32m━━━━━━━━━━━━━━━━━━━━\u001b[0m\u001b[37m\u001b[0m \u001b[1m1s\u001b[0m 6ms/step - loss: 0.0150 - mae: 0.0150 - mean_absolute_percentage_error: 2.1231 - mse: 5.1642e-04 - root_mean_squared_error: 0.0227 - val_loss: 0.0818 - val_mae: 0.0818 - val_mean_absolute_percentage_error: 12.6779 - val_mse: 0.0088 - val_root_mean_squared_error: 0.0936\n",
      "Epoch 4/4\n",
      "\u001b[1m211/211\u001b[0m \u001b[32m━━━━━━━━━━━━━━━━━━━━\u001b[0m\u001b[37m\u001b[0m \u001b[1m1s\u001b[0m 6ms/step - loss: 0.0113 - mae: 0.0113 - mean_absolute_percentage_error: 1.5201 - mse: 2.6514e-04 - root_mean_squared_error: 0.0163 - val_loss: 0.0809 - val_mae: 0.0809 - val_mean_absolute_percentage_error: 12.5772 - val_mse: 0.0088 - val_root_mean_squared_error: 0.0936\n",
      "\u001b[1m222/222\u001b[0m \u001b[32m━━━━━━━━━━━━━━━━━━━━\u001b[0m\u001b[37m\u001b[0m \u001b[1m1s\u001b[0m 3ms/step - loss: 0.0148 - mae: 0.0148 - mean_absolute_percentage_error: 1.7805 - mse: 3.8415e-04 - root_mean_squared_error: 0.0191\n",
      "Model done\n"
     ]
    },
    {
     "name": "stderr",
     "output_type": "stream",
     "text": [
      "3it [33:25, 777.98s/it]"
     ]
    },
    {
     "name": "stdout",
     "output_type": "stream",
     "text": [
      "MAE 0.022598769515752792 MSE 0.0013587017310783267 RMSE 0.036860570311546326 RunningTime 0.05300593376159668 Estimated energy 730.5277791023254\n",
      "Encoder done\n",
      "\u001b[1m233/233\u001b[0m \u001b[32m━━━━━━━━━━━━━━━━━━━━\u001b[0m\u001b[37m\u001b[0m \u001b[1m2s\u001b[0m 8ms/step\n",
      "\u001b[1m220/220\u001b[0m \u001b[32m━━━━━━━━━━━━━━━━━━━━\u001b[0m\u001b[37m\u001b[0m \u001b[1m2s\u001b[0m 8ms/step\n",
      "Epoch 1/4\n",
      "\u001b[1m210/210\u001b[0m \u001b[32m━━━━━━━━━━━━━━━━━━━━\u001b[0m\u001b[37m\u001b[0m \u001b[1m3s\u001b[0m 9ms/step - loss: 0.3063 - mae: 0.3063 - mean_absolute_percentage_error: 35.2375 - mse: 0.1291 - root_mean_squared_error: 0.3591 - val_loss: 0.1028 - val_mae: 0.1028 - val_mean_absolute_percentage_error: 14.3270 - val_mse: 0.0287 - val_root_mean_squared_error: 0.1693\n",
      "Epoch 2/4\n",
      "\u001b[1m210/210\u001b[0m \u001b[32m━━━━━━━━━━━━━━━━━━━━\u001b[0m\u001b[37m\u001b[0m \u001b[1m2s\u001b[0m 8ms/step - loss: 0.0897 - mae: 0.0897 - mean_absolute_percentage_error: 10.8679 - mse: 0.0412 - root_mean_squared_error: 0.2016 - val_loss: 0.0426 - val_mae: 0.0426 - val_mean_absolute_percentage_error: 6.2420 - val_mse: 0.0105 - val_root_mean_squared_error: 0.1023\n",
      "Epoch 3/4\n",
      "\u001b[1m210/210\u001b[0m \u001b[32m━━━━━━━━━━━━━━━━━━━━\u001b[0m\u001b[37m\u001b[0m \u001b[1m2s\u001b[0m 8ms/step - loss: 0.0397 - mae: 0.0397 - mean_absolute_percentage_error: 4.7972 - mse: 0.0191 - root_mean_squared_error: 0.1377 - val_loss: 0.0394 - val_mae: 0.0394 - val_mean_absolute_percentage_error: 5.6196 - val_mse: 0.0023 - val_root_mean_squared_error: 0.0477\n",
      "Epoch 4/4\n",
      "\u001b[1m210/210\u001b[0m \u001b[32m━━━━━━━━━━━━━━━━━━━━\u001b[0m\u001b[37m\u001b[0m \u001b[1m2s\u001b[0m 7ms/step - loss: 0.0150 - mae: 0.0150 - mean_absolute_percentage_error: 1.9610 - mse: 5.9546e-04 - root_mean_squared_error: 0.0242 - val_loss: 0.0263 - val_mae: 0.0263 - val_mean_absolute_percentage_error: 3.9777 - val_mse: 0.0011 - val_root_mean_squared_error: 0.0336\n",
      "\u001b[1m220/220\u001b[0m \u001b[32m━━━━━━━━━━━━━━━━━━━━\u001b[0m\u001b[37m\u001b[0m \u001b[1m1s\u001b[0m 3ms/step - loss: 0.0161 - mae: 0.0161 - mean_absolute_percentage_error: 1.9514 - mse: 5.0411e-04 - root_mean_squared_error: 0.0216\n",
      "Model done\n"
     ]
    },
    {
     "name": "stderr",
     "output_type": "stream",
     "text": [
      "4it [51:09, 890.55s/it]"
     ]
    },
    {
     "name": "stdout",
     "output_type": "stream",
     "text": [
      "MAE 0.021727662533521652 MSE 0.0008896426879800856 RMSE 0.029826879501342773 RunningTime 0.056002140045166016 Estimated energy 759.333016872406\n",
      "Encoder done\n",
      "\u001b[1m230/230\u001b[0m \u001b[32m━━━━━━━━━━━━━━━━━━━━\u001b[0m\u001b[37m\u001b[0m \u001b[1m2s\u001b[0m 8ms/step\n",
      "\u001b[1m218/218\u001b[0m \u001b[32m━━━━━━━━━━━━━━━━━━━━\u001b[0m\u001b[37m\u001b[0m \u001b[1m2s\u001b[0m 8ms/step\n",
      "Epoch 1/4\n",
      "\u001b[1m207/207\u001b[0m \u001b[32m━━━━━━━━━━━━━━━━━━━━\u001b[0m\u001b[37m\u001b[0m \u001b[1m3s\u001b[0m 9ms/step - loss: 0.3101 - mae: 0.3101 - mean_absolute_percentage_error: 35.5739 - mse: 0.1260 - root_mean_squared_error: 0.3548 - val_loss: 0.2049 - val_mae: 0.2049 - val_mean_absolute_percentage_error: 29.5002 - val_mse: 0.0648 - val_root_mean_squared_error: 0.2546\n",
      "Epoch 2/4\n",
      "\u001b[1m207/207\u001b[0m \u001b[32m━━━━━━━━━━━━━━━━━━━━\u001b[0m\u001b[37m\u001b[0m \u001b[1m2s\u001b[0m 8ms/step - loss: 0.0999 - mae: 0.0999 - mean_absolute_percentage_error: 12.0995 - mse: 0.0315 - root_mean_squared_error: 0.1751 - val_loss: 0.0944 - val_mae: 0.0944 - val_mean_absolute_percentage_error: 14.1625 - val_mse: 0.0127 - val_root_mean_squared_error: 0.1128\n",
      "Epoch 3/4\n",
      "\u001b[1m207/207\u001b[0m \u001b[32m━━━━━━━━━━━━━━━━━━━━\u001b[0m\u001b[37m\u001b[0m \u001b[1m2s\u001b[0m 7ms/step - loss: 0.0246 - mae: 0.0246 - mean_absolute_percentage_error: 3.2845 - mse: 0.0015 - root_mean_squared_error: 0.0384 - val_loss: 0.1231 - val_mae: 0.1231 - val_mean_absolute_percentage_error: 18.4555 - val_mse: 0.0184 - val_root_mean_squared_error: 0.1358\n",
      "Epoch 4/4\n",
      "\u001b[1m207/207\u001b[0m \u001b[32m━━━━━━━━━━━━━━━━━━━━\u001b[0m\u001b[37m\u001b[0m \u001b[1m2s\u001b[0m 7ms/step - loss: 0.0148 - mae: 0.0148 - mean_absolute_percentage_error: 2.0716 - mse: 4.7474e-04 - root_mean_squared_error: 0.0218 - val_loss: 0.1021 - val_mae: 0.1021 - val_mean_absolute_percentage_error: 15.4853 - val_mse: 0.0135 - val_root_mean_squared_error: 0.1163\n",
      "\u001b[1m218/218\u001b[0m \u001b[32m━━━━━━━━━━━━━━━━━━━━\u001b[0m\u001b[37m\u001b[0m \u001b[1m1s\u001b[0m 3ms/step - loss: 0.0352 - mae: 0.0352 - mean_absolute_percentage_error: 4.1732 - mse: 0.0029 - root_mean_squared_error: 0.0537\n",
      "Model done\n"
     ]
    },
    {
     "name": "stderr",
     "output_type": "stream",
     "text": [
      "5it [1:08:55, 953.97s/it]"
     ]
    },
    {
     "name": "stdout",
     "output_type": "stream",
     "text": [
      "MAE 0.0437755361199379 MSE 0.004007094539701939 RMSE 0.06330161541700363 RunningTime 0.04900002479553223 Estimated energy 650.5243291854858\n",
      "Encoder done\n",
      "\u001b[1m226/226\u001b[0m \u001b[32m━━━━━━━━━━━━━━━━━━━━\u001b[0m\u001b[37m\u001b[0m \u001b[1m2s\u001b[0m 8ms/step\n",
      "\u001b[1m213/213\u001b[0m \u001b[32m━━━━━━━━━━━━━━━━━━━━\u001b[0m\u001b[37m\u001b[0m \u001b[1m2s\u001b[0m 8ms/step\n",
      "Epoch 1/4\n",
      "\u001b[1m203/203\u001b[0m \u001b[32m━━━━━━━━━━━━━━━━━━━━\u001b[0m\u001b[37m\u001b[0m \u001b[1m3s\u001b[0m 9ms/step - loss: 0.2817 - mae: 0.2817 - mean_absolute_percentage_error: 32.7170 - mse: 0.1146 - root_mean_squared_error: 0.3381 - val_loss: 0.1935 - val_mae: 0.1935 - val_mean_absolute_percentage_error: 27.7444 - val_mse: 0.0560 - val_root_mean_squared_error: 0.2366\n",
      "Epoch 2/4\n",
      "\u001b[1m203/203\u001b[0m \u001b[32m━━━━━━━━━━━━━━━━━━━━\u001b[0m\u001b[37m\u001b[0m \u001b[1m2s\u001b[0m 8ms/step - loss: 0.0927 - mae: 0.0927 - mean_absolute_percentage_error: 11.3084 - mse: 0.0317 - root_mean_squared_error: 0.1765 - val_loss: 0.0608 - val_mae: 0.0608 - val_mean_absolute_percentage_error: 8.8132 - val_mse: 0.0086 - val_root_mean_squared_error: 0.0926\n",
      "Epoch 3/4\n",
      "\u001b[1m203/203\u001b[0m \u001b[32m━━━━━━━━━━━━━━━━━━━━\u001b[0m\u001b[37m\u001b[0m \u001b[1m2s\u001b[0m 8ms/step - loss: 0.0293 - mae: 0.0293 - mean_absolute_percentage_error: 3.8580 - mse: 0.0069 - root_mean_squared_error: 0.0830 - val_loss: 0.0619 - val_mae: 0.0619 - val_mean_absolute_percentage_error: 9.0223 - val_mse: 0.0049 - val_root_mean_squared_error: 0.0701\n",
      "Epoch 4/4\n",
      "\u001b[1m203/203\u001b[0m \u001b[32m━━━━━━━━━━━━━━━━━━━━\u001b[0m\u001b[37m\u001b[0m \u001b[1m2s\u001b[0m 8ms/step - loss: 0.0158 - mae: 0.0158 - mean_absolute_percentage_error: 2.2369 - mse: 7.4079e-04 - root_mean_squared_error: 0.0271 - val_loss: 0.0478 - val_mae: 0.0478 - val_mean_absolute_percentage_error: 7.0112 - val_mse: 0.0030 - val_root_mean_squared_error: 0.0547\n",
      "\u001b[1m213/213\u001b[0m \u001b[32m━━━━━━━━━━━━━━━━━━━━\u001b[0m\u001b[37m\u001b[0m \u001b[1m1s\u001b[0m 3ms/step - loss: 0.0168 - mae: 0.0168 - mean_absolute_percentage_error: 2.0793 - mse: 5.0216e-04 - root_mean_squared_error: 0.0217\n",
      "Model done\n"
     ]
    },
    {
     "name": "stderr",
     "output_type": "stream",
     "text": [
      "6it [1:28:49, 1035.61s/it]"
     ]
    },
    {
     "name": "stdout",
     "output_type": "stream",
     "text": [
      "MAE 0.022316014394164085 MSE 0.0008811145671643317 RMSE 0.02968357317149639 RunningTime 0.08199882507324219 Estimated energy 1101.408218383789\n",
      "Encoder done\n",
      "\u001b[1m216/216\u001b[0m \u001b[32m━━━━━━━━━━━━━━━━━━━━\u001b[0m\u001b[37m\u001b[0m \u001b[1m2s\u001b[0m 8ms/step\n",
      "\u001b[1m204/204\u001b[0m \u001b[32m━━━━━━━━━━━━━━━━━━━━\u001b[0m\u001b[37m\u001b[0m \u001b[1m2s\u001b[0m 8ms/step\n",
      "Epoch 1/4\n",
      "\u001b[1m195/195\u001b[0m \u001b[32m━━━━━━━━━━━━━━━━━━━━\u001b[0m\u001b[37m\u001b[0m \u001b[1m5s\u001b[0m 10ms/step - loss: 0.2921 - mae: 0.2921 - mean_absolute_percentage_error: 33.8057 - mse: 0.1165 - root_mean_squared_error: 0.3407 - val_loss: 0.1414 - val_mae: 0.1414 - val_mean_absolute_percentage_error: 20.2177 - val_mse: 0.0393 - val_root_mean_squared_error: 0.1984\n",
      "Epoch 2/4\n",
      "\u001b[1m195/195\u001b[0m \u001b[32m━━━━━━━━━━━━━━━━━━━━\u001b[0m\u001b[37m\u001b[0m \u001b[1m2s\u001b[0m 9ms/step - loss: 0.0729 - mae: 0.0729 - mean_absolute_percentage_error: 9.0983 - mse: 0.0264 - root_mean_squared_error: 0.1613 - val_loss: 0.0706 - val_mae: 0.0706 - val_mean_absolute_percentage_error: 10.5245 - val_mse: 0.0092 - val_root_mean_squared_error: 0.0959\n",
      "Epoch 3/4\n",
      "\u001b[1m195/195\u001b[0m \u001b[32m━━━━━━━━━━━━━━━━━━━━\u001b[0m\u001b[37m\u001b[0m \u001b[1m2s\u001b[0m 9ms/step - loss: 0.0178 - mae: 0.0178 - mean_absolute_percentage_error: 2.3278 - mse: 0.0014 - root_mean_squared_error: 0.0362 - val_loss: 0.0697 - val_mae: 0.0697 - val_mean_absolute_percentage_error: 10.5079 - val_mse: 0.0085 - val_root_mean_squared_error: 0.0925\n",
      "Epoch 4/4\n",
      "\u001b[1m195/195\u001b[0m \u001b[32m━━━━━━━━━━━━━━━━━━━━\u001b[0m\u001b[37m\u001b[0m \u001b[1m2s\u001b[0m 9ms/step - loss: 0.0118 - mae: 0.0118 - mean_absolute_percentage_error: 1.5397 - mse: 2.5975e-04 - root_mean_squared_error: 0.0161 - val_loss: 0.0740 - val_mae: 0.0740 - val_mean_absolute_percentage_error: 11.1234 - val_mse: 0.0092 - val_root_mean_squared_error: 0.0959\n",
      "\u001b[1m204/204\u001b[0m \u001b[32m━━━━━━━━━━━━━━━━━━━━\u001b[0m\u001b[37m\u001b[0m \u001b[1m1s\u001b[0m 4ms/step - loss: 0.0155 - mae: 0.0155 - mean_absolute_percentage_error: 1.8797 - mse: 4.0214e-04 - root_mean_squared_error: 0.0196\n",
      "Model done\n"
     ]
    },
    {
     "name": "stderr",
     "output_type": "stream",
     "text": [
      "7it [1:51:27, 955.33s/it] "
     ]
    },
    {
     "name": "stdout",
     "output_type": "stream",
     "text": [
      "MAE 0.02291528880596161 MSE 0.0015535523416474462 RMSE 0.03941512852907181 RunningTime 0.05700111389160156 Estimated energy 755.6067657470703\n"
     ]
    },
    {
     "name": "stderr",
     "output_type": "stream",
     "text": [
      "\n"
     ]
    }
   ],
   "source": [
    "Steps_in=[1,10,20,25,25,25,25]\n",
    "Steps_out=[1,5,10,25,50,100,200]    \n",
    "TestLSTM(Steps_in,Steps_out)"
   ]
  }
 ],
 "metadata": {
  "kernelspec": {
   "display_name": ".venv",
   "language": "python",
   "name": "python3"
  },
  "language_info": {
   "codemirror_mode": {
    "name": "ipython",
    "version": 3
   },
   "file_extension": ".py",
   "mimetype": "text/x-python",
   "name": "python",
   "nbconvert_exporter": "python",
   "pygments_lexer": "ipython3",
   "version": "3.10.10"
  }
 },
 "nbformat": 4,
 "nbformat_minor": 2
}
